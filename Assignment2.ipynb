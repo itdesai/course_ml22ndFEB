{
 "cells": [
  {
   "cell_type": "code",
   "execution_count": 5,
   "metadata": {},
   "outputs": [
    {
     "name": "stdout",
     "output_type": "stream",
     "text": [
      "list of numbers: 2,4,6,8\n"
     ]
    }
   ],
   "source": [
    "# 2.1#Write a Python Program to implement your own myreduce() function which works exactly like Python's built-in function reduce()\n",
    "#let's find the Syntax:--> reduce(function, sequence[, initial]) -> value\n",
    "# we need to function to pass as argument and list of data.\n",
    "# create function as we want:\n",
    "def do_mul(num1, num2):\n",
    "    return num1 * num2\n",
    "#get the list of numbers as input\n",
    "ls=(input(\"list of numbers: \"))"
   ]
  },
  {
   "cell_type": "code",
   "execution_count": 6,
   "metadata": {},
   "outputs": [],
   "source": [
    "lst=[]\n",
    "strlst=ls.split(',')\n",
    "for str in strlst:\n",
    "    lst.append(str)"
   ]
  },
  {
   "cell_type": "code",
   "execution_count": 7,
   "metadata": {},
   "outputs": [],
   "source": [
    "def myreduce(funct,lst):\n",
    "    first = lst[0]\n",
    "    for ls in lst[1:]:\n",
    "        first = funct(int(first), int(ls))\n",
    "    return first"
   ]
  },
  {
   "cell_type": "code",
   "execution_count": 8,
   "metadata": {},
   "outputs": [
    {
     "name": "stdout",
     "output_type": "stream",
     "text": [
      "384\n"
     ]
    }
   ],
   "source": [
    "#call the function to perform the operation as the syntax -->reduce(function, sequence[, initial]) -> value\n",
    "print(myreduce(do_mul,lst))"
   ]
  },
  {
   "cell_type": "code",
   "execution_count": 9,
   "metadata": {},
   "outputs": [],
   "source": [
    "#2.2 Write a Python program to implement your own myfilter() function which works exactly like\n",
    "#Python's built-in function filter()\n",
    "def myfilter(fun, sequence):\n",
    "    lst=[]\n",
    "    for sq in sequence:\n",
    "        if fun(sq) is True:\n",
    "           lst.append(sq)\n",
    "    return lst\n",
    "def vowellist(variable):\n",
    "    letters = ['a', 'e', 'i', 'o', 'u']\n",
    "    if (variable in letters):\n",
    "        return True\n",
    "    else:\n",
    "        return False"
   ]
  },
  {
   "cell_type": "code",
   "execution_count": 10,
   "metadata": {},
   "outputs": [
    {
     "name": "stdout",
     "output_type": "stream",
     "text": [
      "['e', 'e']\n"
     ]
    }
   ],
   "source": [
    "# sequence\n",
    "sequence = ['g', 'e', 'e', 'j', 'k', 's', 'p', 'r']\n",
    "# using filter function\n",
    "print(myfilter(vowellist, sequence))"
   ]
  },
  {
   "cell_type": "code",
   "execution_count": 12,
   "metadata": {},
   "outputs": [
    {
     "name": "stdout",
     "output_type": "stream",
     "text": [
      "['A', 'C', 'A', 'D', 'G', 'I', 'L', 'D']\n"
     ]
    }
   ],
   "source": [
    "#2. Implement List comprehensions to produce the following lists.\n",
    "#['A', 'C', 'A', 'D', 'G', 'I', ’L’, ‘ D’]\n",
    "#['x', 'xx', 'xxx', 'xxxx', 'y', 'yy', 'yyy', 'yyyy', 'z', 'zz', 'zzz', 'zzzz']\n",
    "#['x', 'y', 'z', 'xx', 'yy', 'zz', 'xx', 'yy', 'zz', 'xxxx', 'yyyy', 'zzzz']\n",
    "#*********************************************************#\n",
    "astr=[]\n",
    "strs=\"ACADGILD\"\n",
    "result=[lst for lst in strs]\n",
    "print(result)\n"
   ]
  },
  {
   "cell_type": "code",
   "execution_count": 15,
   "metadata": {},
   "outputs": [
    {
     "name": "stdout",
     "output_type": "stream",
     "text": [
      "['x','y','z'] =>  ['x', 'xx', 'xxx', 'xxxx', 'y', 'yy', 'yyy', 'yyyy', 'z', 'zz', 'zzz', 'zzzz']\n"
     ]
    }
   ],
   "source": [
    "input_list = ['x','y','z']\n",
    "result = [lst*num for lst in input_list for num in range(1,5)]\n",
    "print(\"['x','y','z'] => \" ,  result)"
   ]
  },
  {
   "cell_type": "code",
   "execution_count": 16,
   "metadata": {},
   "outputs": [
    {
     "name": "stdout",
     "output_type": "stream",
     "text": [
      "[[2], [3], [4], [3], [4], [5], [4], [5], [6]]\n"
     ]
    }
   ],
   "source": [
    "#[[2], [3], [4], [3], [4], [5], [4], [5], [6]]\n",
    "input_list=[2,3,4]\n",
    "#result=[item+num for num in range(0,3) for item in input_list]\n",
    "result = [ [item+num] for item in input_list for num in range(0,3)]\n",
    "print(result)"
   ]
  },
  {
   "cell_type": "code",
   "execution_count": 18,
   "metadata": {},
   "outputs": [
    {
     "name": "stdout",
     "output_type": "stream",
     "text": [
      "[[2, 3, 4, 5], [3, 4, 5, 6], [4, 5, 6, 7], [5, 6, 7, 8]]\n"
     ]
    }
   ],
   "source": [
    "#[[2, 3, 4, 5], [3, 4, 5, 6], [4, 5, 6, 7], [5, 6, 7, 8]]\n",
    "inputlist=[2,3,4,5]\n",
    "result = [[inp+num for inp in inputlist] for num in range(0,4)]\n",
    "print(result)"
   ]
  },
  {
   "cell_type": "code",
   "execution_count": 19,
   "metadata": {},
   "outputs": [
    {
     "name": "stdout",
     "output_type": "stream",
     "text": [
      "[(1, 1), (2, 1), (3, 1), (1, 2), (2, 2), (3, 2), (1, 3), (2, 3), (3, 3)]\n"
     ]
    }
   ],
   "source": [
    "#[(1, 1), (2, 1), (3, 1), (1, 2), (2, 2), (3, 2), (1, 3), (2, 3), (3, 3)]\n",
    "inputls=[1,2,3]\n",
    "result=[(inp,num) for num in range(1,4) for inp in inputls]\n",
    "print(result)"
   ]
  },
  {
   "cell_type": "code",
   "execution_count": 20,
   "metadata": {},
   "outputs": [],
   "source": [
    "#3. Implement a function longestWord() that takes a list of words and returns the longest one.\n",
    "def longestWord(lstwrd):\n",
    "    bgword = ' '\n",
    "    for ls in lstwrd.split(','):\n",
    "        if len(ls) >len(bgword):\n",
    "            bgword=ls\n",
    "    return bgword\n"
   ]
  },
  {
   "cell_type": "code",
   "execution_count": 23,
   "metadata": {},
   "outputs": [
    {
     "name": "stdout",
     "output_type": "stream",
     "text": [
      "enter the list of words:Panther,Surprise,boredom,AtHome\n"
     ]
    }
   ],
   "source": [
    "lstwrds=input(\"enter the list of words:\")"
   ]
  },
  {
   "cell_type": "code",
   "execution_count": 24,
   "metadata": {},
   "outputs": [
    {
     "name": "stdout",
     "output_type": "stream",
     "text": [
      "Surprise\n"
     ]
    }
   ],
   "source": [
    "print(longestWord(lstwrds))"
   ]
  },
  {
   "cell_type": "code",
   "execution_count": 31,
   "metadata": {},
   "outputs": [],
   "source": [
    "# Write a Python Program(with class concepts) to find the area of the triangle using the formula area = (s*(s-a)*(s-b)*(s-c)) ** 0.5\n",
    "# Using inheritance\n",
    "class Base1(object):\n",
    "    # Function to take the length of the sides of triangle from user should be defined in the parent\n",
    "    def __init__(self):\n",
    "        self.a = int(input(\"side1: \"))\n",
    "        self.b = int(input(\"side2: \"))\n",
    "        self.c = int(input(\"side3: \"))\n",
    "#subclass.\n",
    "class Derived(Base1):\n",
    "    def __init__(self):\n",
    "        # Calling constructors of Base1\n",
    "        Base1.__init__(self)\n",
    "\n",
    "# function to calculate the area should be\n",
    "    def printStrs(self):\n",
    "        s=float((self.a+self.b+self.c)/2)\n",
    "        #areas = (s*(int(s-int(self.a))*(s-int(self.b)*(s-int(self.c))) ** 0.5\n",
    "        ars=(s*(s-self.a)*(s-self.b)*(s-self.c))** 0.5\n",
    "        print(ars)\n"
   ]
  },
  {
   "cell_type": "code",
   "execution_count": 25,
   "metadata": {},
   "outputs": [],
   "source": [
    "#Write a function filter_long_words() that takes a list of words and an integer n and returns the list\n",
    "#of words that are longer than n.\n",
    "\n",
    "lsts=['Panther','Work','Sit','Surprise','WorkfromHome']\n",
    "def filter_long_words(lst,n):\n",
    "    res=[]\n",
    "    for ls in lst:\n",
    "        if len(ls)> int(n):\n",
    "            res.append(ls)\n",
    "    return res\n",
    "rst=filter_long_words(lsts,5)"
   ]
  },
  {
   "cell_type": "code",
   "execution_count": 26,
   "metadata": {},
   "outputs": [
    {
     "name": "stdout",
     "output_type": "stream",
     "text": [
      "['Panther', 'Surprise', 'WorkfromHome']\n"
     ]
    }
   ],
   "source": [
    "print(rst)"
   ]
  },
  {
   "cell_type": "code",
   "execution_count": 27,
   "metadata": {},
   "outputs": [],
   "source": [
    "#Write a Python program using function concept that maps list of words into a list of integers representing the lengths of the corresponding words .\n",
    "#Hint: If a list [ ab,cde,erty] is passed on to the python function output should come as [2,3,4]\n",
    "#Here 2,3 and 4 are the lengths of the words in the list.\n",
    "\n",
    "lsts=['Panther','Work','Sit','Surprise','WorkfromHome']\n",
    "def List_wordsLength(lst):\n",
    "    res=[]\n",
    "    for ls in lst:\n",
    "        res.append(len(ls))\n",
    "    return res\n",
    "rst=List_wordsLength(lsts)"
   ]
  },
  {
   "cell_type": "code",
   "execution_count": 28,
   "metadata": {},
   "outputs": [
    {
     "name": "stdout",
     "output_type": "stream",
     "text": [
      "[7, 4, 3, 8, 12]\n"
     ]
    }
   ],
   "source": [
    "print(rst)"
   ]
  },
  {
   "cell_type": "code",
   "execution_count": 29,
   "metadata": {},
   "outputs": [
    {
     "name": "stdout",
     "output_type": "stream",
     "text": [
      "enter the letters: s,t,u,v,w,o,A,E\n"
     ]
    }
   ],
   "source": [
    "#Write a Python function which takes a character (i.e. a string of length 1) and returns True if it is a vowel, False otherwise.\n",
    "\n",
    "letters=input(\"enter the letters: \")\n",
    "skiplist=['a','e','i','o','u','A','E','I','O','U']\n",
    "\n",
    "def vowelcheck(letters):\n",
    "    print(\"It's in\")\n",
    "    for ch in letters:\n",
    "        if skiplist.__contains__(ch):\n",
    "            print(\"True\")\n",
    "        else:\n",
    "            print(\"False\")"
   ]
  },
  {
   "cell_type": "code",
   "execution_count": 30,
   "metadata": {},
   "outputs": [
    {
     "name": "stdout",
     "output_type": "stream",
     "text": [
      "It's in\n",
      "False\n",
      "False\n",
      "False\n",
      "False\n",
      "True\n",
      "False\n",
      "False\n",
      "False\n",
      "False\n",
      "False\n",
      "True\n",
      "False\n",
      "True\n",
      "False\n",
      "True\n"
     ]
    }
   ],
   "source": [
    "vowelcheck(letters)"
   ]
  },
  {
   "cell_type": "code",
   "execution_count": 34,
   "metadata": {
    "scrolled": true
   },
   "outputs": [
    {
     "name": "stdout",
     "output_type": "stream",
     "text": [
      "side1: 4\n",
      "side2: 5\n",
      "side3: 7\n",
      "9.797958971132712\n"
     ]
    }
   ],
   "source": [
    "ob = Derived()\n",
    "ob.printStrs()"
   ]
  },
  {
   "cell_type": "code",
   "execution_count": null,
   "metadata": {},
   "outputs": [],
   "source": []
  }
 ],
 "metadata": {
  "kernelspec": {
   "display_name": "Python 3",
   "language": "python",
   "name": "python3"
  },
  "language_info": {
   "codemirror_mode": {
    "name": "ipython",
    "version": 3
   },
   "file_extension": ".py",
   "mimetype": "text/x-python",
   "name": "python",
   "nbconvert_exporter": "python",
   "pygments_lexer": "ipython3",
   "version": "3.7.3"
  }
 },
 "nbformat": 4,
 "nbformat_minor": 2
}
